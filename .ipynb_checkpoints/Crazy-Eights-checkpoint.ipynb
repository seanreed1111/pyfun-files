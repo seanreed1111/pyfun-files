{
 "cells": [
  {
   "cell_type": "code",
   "execution_count": null,
   "metadata": {
    "collapsed": true
   },
   "outputs": [],
   "source": [
    "#How do you play Crazy Eights?\n",
    "'''\n",
    "ASSUME YOU ARE DOING A TWO PLAYER GAME\n",
    "\n",
    "from Wikipedia: https://en.wikipedia.org/wiki/Crazy_Eights\n",
    "\n",
    "Eight cards are dealt to each player (or seven in a two-player game). \n",
    "The remaining cards of the deck are placed face down at the center \n",
    "of the table. \n",
    "The top card is then turned face up to start the game.\n",
    "\n",
    "Players discard by matching rank or suit with the top card of the \n",
    "discard pile, \n",
    "starting with the player left of the dealer. \n",
    "If a player is unable to match the rank or suit of the top card of \n",
    "the discard pile \n",
    "and does not have an 8, they draw cards from the stockpile until \n",
    "they get a playable card. \n",
    "When a player plays an 8, they must declare the suit that \n",
    "the next player is to play;\n",
    "that player must then follow the named suit or play another 8.\n",
    "\n",
    "As an example: Once 6♣ is played the next player:\n",
    "\n",
    "can play any of the other 6s\n",
    "can play any of the clubs\n",
    "can play any 8 (then must declare a suit)\n",
    "can draw from the stockpile until willing and able to play one of the above\n",
    "The game ends as soon as one player has emptied their hand.\n",
    "That player is the winner.\n",
    "'''"
   ]
  },
  {
   "cell_type": "code",
   "execution_count": 3,
   "metadata": {
    "collapsed": true
   },
   "outputs": [],
   "source": [
    "class Card:\n",
    "    \n",
    "    SUITS = [\"Hearts\", \"Clubs\", \"Diamonds\", \"Spades\"]\n",
    "    RANKS = [\"2\", \"3\", \"4\", \"5\", \"6\", \"7\", \"8\", \"9\", \"10\", \"J\", \"Q\", \"K\", \"A\"]\n",
    "    \n",
    "    def __init__(self, suit, rank):\n",
    "        if (suit not in Card.SUITS) or (rank not in Card.RANKS): \n",
    "            raise(Exception)\n",
    "        self.suit = suit\n",
    "        self.rank = rank\n",
    "    \n",
    "    def __repr__(self):\n",
    "        return \"{} of {}\".format(self.rank, self.suit)"
   ]
  },
  {
   "cell_type": "code",
   "execution_count": 23,
   "metadata": {
    "collapsed": true
   },
   "outputs": [],
   "source": [
    "import random\n",
    "class Hand:\n",
    "    def __init__(self):\n",
    "        self.cards = []\n",
    "        \n",
    "    #need some sort of search function to check if the hand has a playable card\n",
    "    #what should this function return?\n",
    "    #what happens if there is NOT a playable card in the hand?\n",
    "    def search(self, card):\n",
    "        pass\n",
    "    \n",
    "    def shuffle(self): #in case we need to shuffle the discard pile\n",
    "        random.shuffle(self.cards)\n",
    "        return self \n",
    "    \n",
    "    def __repr__(self):\n",
    "        lst = [str(card) for card in self.cards]\n",
    "        return \", \".join(lst)\n",
    "    \n",
    "            "
   ]
  },
  {
   "cell_type": "code",
   "execution_count": 25,
   "metadata": {
    "collapsed": false
   },
   "outputs": [],
   "source": [
    "# h = Hand()\n",
    "# d = Deck()\n",
    "# for i in range(5):\n",
    "#     h.cards.append(d.deal())\n",
    "# h // K of Clubs, A of Diamonds, 6 of Hearts, 9 of Clubs, 3 of Hearts"
   ]
  },
  {
   "cell_type": "code",
   "execution_count": 17,
   "metadata": {
    "collapsed": false
   },
   "outputs": [
    {
     "data": {
      "text/plain": [
       "'0,1,2,3,4'"
      ]
     },
     "execution_count": 17,
     "metadata": {},
     "output_type": "execute_result"
    }
   ],
   "source": [
    "# testing str.join() method\n",
    "lst = [str(i) for i in range(5)]\n",
    "\",\".join(lst)"
   ]
  },
  {
   "cell_type": "code",
   "execution_count": 8,
   "metadata": {
    "collapsed": true
   },
   "outputs": [],
   "source": [
    "import random\n",
    "class Deck:  \n",
    "\n",
    "    def __init__(self):\n",
    "        self.cards = []\n",
    "        self.discards = []\n",
    "        \n",
    "        for rank in Card.RANKS: \n",
    "            for suit in Card.SUITS: \n",
    "                c = Card(suit=suit, rank=rank)\n",
    "                self.cards.append(c)\n",
    "                \n",
    "    def deal(self): #deals one card.\n",
    "        card = self.cards.pop()\n",
    "        return card\n",
    "    \n",
    "    def shuffle(self):\n",
    "        random.shuffle(self.cards)\n",
    "        return self #why do I return self here?\n",
    "\n",
    "    def __repr__(self):\n",
    "        return \"Deck of {} cards\".format(len(self.cards))   "
   ]
  },
  {
   "cell_type": "code",
   "execution_count": 26,
   "metadata": {
    "collapsed": true
   },
   "outputs": [],
   "source": [
    "class Game:\n",
    "    #assume we have two hands, one for the computer and one for the player\n",
    "\n",
    "    def __init__(self):\n",
    "        self.player = Hand()\n",
    "        self.computer = Hand()\n",
    "        self.discards = Hand()\n",
    "        self.matchCard = None #Card. This will be the last card in self.discards unless an '8' is played\n",
    "        self.winner = None #string with either \"Player\" or \"Computer\"\n",
    "        self.deck = Deck().shuffle()\n",
    "\n",
    "    def checkForWinner(self):\n",
    "        winner = False\n",
    "        if len(self.player.cards) == 0:\n",
    "            self.winner = \"Player\"\n",
    "            winner = True\n",
    "        elif len(self.computer.cards) == 0:\n",
    "            self.winner = \"Computer\"\n",
    "            winner = True\n",
    "        return winner\n",
    "    \n",
    "    def printHands(self):\n",
    "        print(\"Player has:\", self.player)\n",
    "        print(\"Computer has:\", self.computer)\n",
    "    \n",
    "    #override deal method of deck \n",
    "    #makes sure there are cards still in the deck, otherwise reshuffle the discard pile\n",
    "    def deal(self):\n",
    "\n",
    "        if len(self.deck.cards == 0):\n",
    "            pass\n",
    "        return self.deck.cards.pop()\n",
    "    \n",
    "    #use a while loop to keep playing until there is a winner\n",
    "    #how do you take input from the player??\n",
    "    \n",
    "    def initialSetup(self):\n",
    "        for i in range(7):\n",
    "            self.player.cards.append(self.deal())\n",
    "            self.computer.cards.append(self.deal())\n",
    "        self.printHands()\n",
    "        \n",
    "        #add card to discard pile and start while loop. \n",
    "        #Player goes first.\n",
    "        self.discards.cards.append(self.deal())\n",
    "        self.matchCard = self.discards.cards[-1]\n",
    "      \n",
    "    def play(self):\n",
    "        self.initialSetup()\n",
    "        while(not self.loop()):\n",
    "            pass #continue playing\n",
    "        print(\"The winner is \", self.winner)\n",
    "        \n",
    "        \n",
    "        \n",
    "    def loop():\n",
    "        # player's turn\n",
    "            #search player's hand\n",
    "            #if player can't play card draw\n",
    "            #pick one card to play\n",
    "            #search\n",
    "\n",
    "\n",
    "        # computer's turn\n",
    "            #computer searches hand to see if he can play something for matchcard\n",
    "            #pick one card match if he has more than one match.\n",
    "            #play 8 if computer doesn't have a match.\n",
    "                #pick suit of 8 played\n",
    "            #set self.matchCard to the card played or to 8 of SUIT chosen by computer\n",
    "            #pop from hand and append card to self.discards\n",
    "\n",
    "            #if computer has no cards left computer set self.winner = \"Computer\"\n",
    "\n",
    "        self.printHands()\n",
    "        return self.checkForWinner()\n",
    "            \n",
    "    \n",
    "\n",
    "        "
   ]
  },
  {
   "cell_type": "code",
   "execution_count": null,
   "metadata": {
    "collapsed": true
   },
   "outputs": [],
   "source": []
  }
 ],
 "metadata": {
  "kernelspec": {
   "display_name": "Python 3",
   "language": "python",
   "name": "python3"
  },
  "language_info": {
   "codemirror_mode": {
    "name": "ipython",
    "version": 3
   },
   "file_extension": ".py",
   "mimetype": "text/x-python",
   "name": "python",
   "nbconvert_exporter": "python",
   "pygments_lexer": "ipython3",
   "version": "3.6.0"
  }
 },
 "nbformat": 4,
 "nbformat_minor": 2
}
