{
 "cells": [
  {
   "cell_type": "code",
   "execution_count": null,
   "metadata": {
    "collapsed": true
   },
   "outputs": [],
   "source": [
    "#How do you play Crazy Eights?\n",
    "'''\n",
    "ASSUME YOU ARE DOING A TWO PLAYER GAME\n",
    "\n",
    "from Wikipedia: https://en.wikipedia.org/wiki/Crazy_Eights\n",
    "\n",
    "Eight cards are dealt to each player (or seven in a two-player game). \n",
    "The remaining cards of the deck are placed face down at the center \n",
    "of the table. \n",
    "The top card is then turned face up to start the game.\n",
    "\n",
    "Players discard by matching rank or suit with the top card of the \n",
    "discard pile, \n",
    "starting with the player left of the dealer. \n",
    "If a player is unable to match the rank or suit of the top card of \n",
    "the discard pile \n",
    "and does not have an 8, they draw cards from the stockpile until \n",
    "they get a playable card. \n",
    "When a player plays an 8, they must declare the suit that \n",
    "the next player is to play;\n",
    "that player must then follow the named suit or play another 8.\n",
    "\n",
    "As an example: Once 6♣ is played the next player:\n",
    "\n",
    "can play any of the other 6s\n",
    "can play any of the clubs\n",
    "can play any 8 (then must declare a suit)\n",
    "can draw from the stockpile until willing and able to play one of the above\n",
    "The game ends as soon as one player has emptied their hand.\n",
    "That player is the winner.\n",
    "'''"
   ]
  },
  {
   "cell_type": "code",
   "execution_count": 33,
   "metadata": {
    "collapsed": true
   },
   "outputs": [],
   "source": [
    "class Card:\n",
    "    \n",
    "    SUITS = [\"Hearts\", \"Clubs\", \"Diamonds\", \"Spades\"]\n",
    "    RANKS = [\"2\", \"3\", \"4\", \"5\", \"6\", \"7\", \"8\", \"9\", \"10\", \"J\", \"Q\", \"K\", \"A\"]\n",
    "    \n",
    "    def __init__(self, suit, rank):\n",
    "        if (suit.capitalize() not in Card.SUITS) or (rank not in Card.RANKS): \n",
    "            raise(Exception)\n",
    "        self.suit = suit.capitalize()\n",
    "        self.rank = rank\n",
    "    \n",
    "    def __str__(self):\n",
    "        return \"{} of {}\".format(self.rank, self.suit)"
   ]
  },
  {
   "cell_type": "code",
   "execution_count": 46,
   "metadata": {
    "collapsed": false
   },
   "outputs": [],
   "source": [
    "import random\n",
    "class Hand:\n",
    "    def __init__(self):\n",
    "        self.cards = []\n",
    "        \n",
    "    #need some sort of search function to check if the hand has a playable card\n",
    "    #what should this function return?\n",
    "    #what happens if there is NOT a playable card in the hand?\n",
    "    \n",
    "    def addCard(self, card):\n",
    "        self.cards.append(card)\n",
    "        return self\n",
    "    \n",
    "    def removeCard(self, card):\n",
    "        self.cards.remove(card)\n",
    "        return self\n",
    "    \n",
    "    def removeTopCard(self):\n",
    "        self.cards.pop()\n",
    "        return self\n",
    "    \n",
    "    def shuffle(self):\n",
    "        random.shuffle(self.cards)\n",
    "        return self\n",
    "    \n",
    "    def topCard(self):\n",
    "        return self.cards[-1]\n",
    "    \n",
    "    def search(self, card):\n",
    "        pass\n",
    "    \n",
    "    def __str__(self):\n",
    "        lst = [str(card) for card in self.cards]\n",
    "        return \", \".join(lst)\n",
    "    \n",
    "            "
   ]
  },
  {
   "cell_type": "code",
   "execution_count": 47,
   "metadata": {
    "collapsed": true
   },
   "outputs": [],
   "source": [
    "import random\n",
    "class Deck:  \n",
    "\n",
    "    def __init__(self):\n",
    "        self.cards = []\n",
    "        self.discards = []\n",
    "        \n",
    "    def makeNewDeck(self):\n",
    "        for rank in Card.RANKS: \n",
    "            for suit in Card.SUITS: \n",
    "                c = Card(suit=suit, rank=rank)\n",
    "                self.cards.append(c)\n",
    "        self.shuffle()\n",
    "        return self\n",
    "    \n",
    "    def fillWithCards(self, cards):\n",
    "        if cards is not None: #cards is list of Cards\n",
    "            self.cards = cards\n",
    "        return self\n",
    "                \n",
    "    def deal(self):\n",
    "        return self.cards.pop()\n",
    "    \n",
    "    def empty(self):\n",
    "        return len(self.cards) == 0\n",
    "    \n",
    "    def shuffle(self):\n",
    "        random.shuffle(self.cards)\n",
    "        return self \n",
    "\n",
    "    def __str__(self):\n",
    "        return \"This is a Deck containing {} cards\".format(len(self.cards))   "
   ]
  },
  {
   "cell_type": "code",
   "execution_count": 48,
   "metadata": {
    "collapsed": true
   },
   "outputs": [],
   "source": [
    "import random\n",
    "class Game:\n",
    "    #assume we have three Hands, one for the computer, one for the player, and one discard pile\n",
    "\n",
    "    def __init__(self, numberOfPlayers=2):\n",
    "        self.numberOfPlayers = numberOfPlayers\n",
    "        self.hands = [] #array of Hand objects. \n",
    "        #self.hands[0] is the computer\n",
    "\n",
    "        self.discards = Hand()\n",
    "        self.matchCard = None #Card. \n",
    "        self.winner = None #string with either \"Player\" or \"Computer\", set when game ends\n",
    "        self.deck = Deck().makeNewDeck()\n",
    "\n",
    "    def initialSetup(self):\n",
    "        for i in range(self.numberOfPlayers):\n",
    "            self.hands.append(Hand())\n",
    "            for j in range(7): #seven cards to each player\n",
    "                self.hands[i].addCard(self.deal())\n",
    "        self.printHands()\n",
    "\n",
    "        self.discards.addCard(self.deal())\n",
    "        self.matchCard = self.discards.topCard()\n",
    "    \n",
    "    def printHands(self):\n",
    "        for i in range(self.numberOfPlayers):\n",
    "            if i == 0: \n",
    "                print(\"Computer has:\", self.hands[i])\n",
    "            else:\n",
    "                print(\"Player {} has: {}\".format(i, self.hands[i]))             \n",
    "\n",
    "    def shuffleDiscards(self):\n",
    "    #leave top card alone and shuffle the rest of the discards\n",
    "        topCard = self.discards.removeTopCard()\n",
    "        self.discards.shuffle()\n",
    "        self.discards.addCard(topCard)\n",
    "\n",
    "    def deal(self):\n",
    "        if self.deck.empty():\n",
    "            self.shuffleDiscards()\n",
    "            self.deck = Deck().fillWithCards(self.discards.cards)\n",
    "        return self.deck.deal()\n",
    "\n",
    "    def setMatchCard(self):\n",
    "        #matchCard will be either:\n",
    "        # the last card in self.discards \n",
    "        # or a changed version of an 8 if an 8 is played\n",
    "        if self.discards.topCard.rank == '8':\n",
    "            raise Exception(\"CLAUSE NOT IMPLEMENTED\")\n",
    "        else:\n",
    "            self.matchCard = self.discards.topCard() \n",
    "\n",
    "    def play(self):\n",
    "        self.initialSetup()\n",
    "#         while(not self.loop()):\n",
    "#             pass #continue playing\n",
    "#         print(\"The winner is \", self.winner)\n",
    "        \n",
    "        \n",
    "        \n",
    "    def loop():\n",
    "        pass\n",
    "        # player's turn\n",
    "            #search hand using self.matchCard\n",
    "            #if player can't play card on self.matchCard\n",
    "                #draw for them as many times as needed until they can play\n",
    "                #tell them how many cards were drawn\n",
    "                #print their cards\n",
    "            \n",
    "            #prompt player to play one card\n",
    "            # if player chooses invalid card\n",
    "                #prompt player to play one card\n",
    "            #print hand\n",
    "            #end of player's turn\n",
    "\n",
    "\n",
    "        # computer's turn\n",
    "            ##search hand using self.matchCard => returns array that is empty, or has 1+ cards\n",
    "            #if computer can't play card on self.matchCard\n",
    "                #draw# card\n",
    "                #print card drawn\n",
    "                #search hand using card drawn\n",
    "                # if computer can't play card on self.matchCard\n",
    "                #go to #draw# card\n",
    "\n",
    "            #computer plays drawn card\n",
    "            #add drawn card to self.discards\n",
    "            #if rank of drawnCard is eight #PUT THIS IN A FUNCTION\n",
    "                #set self.matchCard = Card(rank=drawncard.rank, \n",
    "                #                         suit=random.choice(Card.SUITS))\n",
    "            #else\n",
    "            #    set self.matchCard = self.discards.cards[-1]\n",
    "            #print hand\n",
    "            #end of computer's turn\n",
    "            #if computer has no cards left\n",
    "                #set self.winner = \"Computer\"\n",
    "\n",
    "#     def checkForWinner(self):\n",
    "#         winner = False\n",
    "#         if len(self.player.cards) == 0:\n",
    "#             self.winner = \"Player\"\n",
    "#             winner = True\n",
    "#         elif len(self.computer.cards) == 0:\n",
    "#             self.winner = \"Computer\"\n",
    "#             winner = True\n",
    "#         return winner\n",
    "            \n",
    "    \n",
    "\n",
    "        "
   ]
  },
  {
   "cell_type": "code",
   "execution_count": 49,
   "metadata": {
    "collapsed": false
   },
   "outputs": [
    {
     "name": "stdout",
     "output_type": "stream",
     "text": [
      "Computer has: A of Diamonds, 10 of Clubs, 4 of Hearts, Q of Diamonds, K of Spades, 2 of Diamonds, 3 of Spades\n",
      "Player 1 has: 3 of Diamonds, 7 of Spades, 4 of Clubs, K of Diamonds, 9 of Clubs, 2 of Spades, J of Diamonds\n"
     ]
    }
   ],
   "source": [
    "g = Game()\n",
    "g.play()"
   ]
  },
  {
   "cell_type": "code",
   "execution_count": null,
   "metadata": {
    "collapsed": true
   },
   "outputs": [],
   "source": []
  },
  {
   "cell_type": "code",
   "execution_count": null,
   "metadata": {
    "collapsed": true
   },
   "outputs": [],
   "source": []
  },
  {
   "cell_type": "code",
   "execution_count": null,
   "metadata": {
    "collapsed": true
   },
   "outputs": [],
   "source": []
  },
  {
   "cell_type": "code",
   "execution_count": null,
   "metadata": {
    "collapsed": true
   },
   "outputs": [],
   "source": []
  },
  {
   "cell_type": "code",
   "execution_count": null,
   "metadata": {
    "collapsed": true
   },
   "outputs": [],
   "source": []
  },
  {
   "cell_type": "code",
   "execution_count": null,
   "metadata": {
    "collapsed": true
   },
   "outputs": [],
   "source": []
  },
  {
   "cell_type": "code",
   "execution_count": null,
   "metadata": {
    "collapsed": true
   },
   "outputs": [],
   "source": []
  },
  {
   "cell_type": "code",
   "execution_count": null,
   "metadata": {
    "collapsed": true
   },
   "outputs": [],
   "source": []
  },
  {
   "cell_type": "code",
   "execution_count": null,
   "metadata": {
    "collapsed": true
   },
   "outputs": [],
   "source": []
  },
  {
   "cell_type": "code",
   "execution_count": null,
   "metadata": {
    "collapsed": true
   },
   "outputs": [],
   "source": []
  },
  {
   "cell_type": "code",
   "execution_count": null,
   "metadata": {
    "collapsed": true
   },
   "outputs": [],
   "source": []
  },
  {
   "cell_type": "code",
   "execution_count": null,
   "metadata": {
    "collapsed": true
   },
   "outputs": [],
   "source": []
  },
  {
   "cell_type": "code",
   "execution_count": null,
   "metadata": {
    "collapsed": true
   },
   "outputs": [],
   "source": []
  },
  {
   "cell_type": "code",
   "execution_count": null,
   "metadata": {
    "collapsed": true
   },
   "outputs": [],
   "source": []
  },
  {
   "cell_type": "code",
   "execution_count": null,
   "metadata": {
    "collapsed": true
   },
   "outputs": [],
   "source": []
  }
 ],
 "metadata": {
  "kernelspec": {
   "display_name": "Python 3",
   "language": "python",
   "name": "python3"
  },
  "language_info": {
   "codemirror_mode": {
    "name": "ipython",
    "version": 3
   },
   "file_extension": ".py",
   "mimetype": "text/x-python",
   "name": "python",
   "nbconvert_exporter": "python",
   "pygments_lexer": "ipython3",
   "version": "3.6.0"
  }
 },
 "nbformat": 4,
 "nbformat_minor": 2
}
