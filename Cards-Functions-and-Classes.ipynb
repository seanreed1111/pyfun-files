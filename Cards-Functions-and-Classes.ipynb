{
 "cells": [
  {
   "cell_type": "code",
   "execution_count": 1,
   "metadata": {
    "collapsed": true
   },
   "outputs": [],
   "source": [
    "#Functional Implementation\n",
    "'''\n",
    "How will we represent a card? TUPLE\n",
    "How will we represent a deck of cards? LIST OF TUPLES\n",
    "How many functions do we need?\n",
    "'''\n",
    "SUITS = [\"Hearts\", \"Clubs\", \"Diamonds\", \"Spades\"]\n",
    "RANKS = [\"2\", \"3\", \"4\", \"5\", \"6\", \"7\", \"8\", \"9\", \"10\", \"J\", \"Q\", \"K\", \"A\"]\n",
    "\n",
    "\n",
    "def make_card(rank, suit):\n",
    "    if rank in RANKS and suit in SUITS:\n",
    "        card = rank, suit\n",
    "    else:\n",
    "        raise(Exception)\n",
    "    return card\n",
    "\n",
    "def print_card(card):\n",
    "    print(\"{} of {}\".format(card[0], card[1]))\n",
    "\n",
    "def make_deck():\n",
    "    cards = []\n",
    "    for rank in RANKS: \n",
    "        for suit in SUITS: \n",
    "            c = make_card(rank,suit)\n",
    "            cards.append(c)  \n",
    "    return cards\n",
    "\n",
    "def print_deck(deck):\n",
    "    print(\"Deck of {} cards\".format(len(deck)))"
   ]
  },
  {
   "cell_type": "code",
   "execution_count": 2,
   "metadata": {
    "collapsed": false
   },
   "outputs": [
    {
     "data": {
      "text/plain": [
       "('2', 'Hearts')"
      ]
     },
     "execution_count": 2,
     "metadata": {},
     "output_type": "execute_result"
    }
   ],
   "source": [
    "my_card = make_card(\"2\", \"Hearts\")\n",
    "my_card"
   ]
  },
  {
   "cell_type": "code",
   "execution_count": 3,
   "metadata": {
    "collapsed": false
   },
   "outputs": [
    {
     "ename": "Exception",
     "evalue": "",
     "output_type": "error",
     "traceback": [
      "\u001b[0;31m---------------------------------------------------------------------------\u001b[0m",
      "\u001b[0;31mException\u001b[0m                                 Traceback (most recent call last)",
      "\u001b[0;32m<ipython-input-3-525b69dc6a9c>\u001b[0m in \u001b[0;36m<module>\u001b[0;34m()\u001b[0m\n\u001b[0;32m----> 1\u001b[0;31m \u001b[0mmy_card\u001b[0m \u001b[0;34m=\u001b[0m \u001b[0mmake_card\u001b[0m\u001b[0;34m(\u001b[0m\u001b[0;34m\"blob\"\u001b[0m\u001b[0;34m,\u001b[0m \u001b[0;34m\"Hearts\"\u001b[0m\u001b[0;34m)\u001b[0m\u001b[0;34m\u001b[0m\u001b[0m\n\u001b[0m\u001b[1;32m      2\u001b[0m \u001b[0mmy_card\u001b[0m\u001b[0;34m\u001b[0m\u001b[0m\n",
      "\u001b[0;32m<ipython-input-1-effa3fc6a2be>\u001b[0m in \u001b[0;36mmake_card\u001b[0;34m(rank, suit)\u001b[0m\n\u001b[1;32m     13\u001b[0m         \u001b[0mcard\u001b[0m \u001b[0;34m=\u001b[0m \u001b[0mrank\u001b[0m\u001b[0;34m,\u001b[0m \u001b[0msuit\u001b[0m\u001b[0;34m\u001b[0m\u001b[0m\n\u001b[1;32m     14\u001b[0m     \u001b[0;32melse\u001b[0m\u001b[0;34m:\u001b[0m\u001b[0;34m\u001b[0m\u001b[0m\n\u001b[0;32m---> 15\u001b[0;31m         \u001b[0;32mraise\u001b[0m\u001b[0;34m(\u001b[0m\u001b[0mException\u001b[0m\u001b[0;34m)\u001b[0m\u001b[0;34m\u001b[0m\u001b[0m\n\u001b[0m\u001b[1;32m     16\u001b[0m     \u001b[0;32mreturn\u001b[0m \u001b[0mcard\u001b[0m\u001b[0;34m\u001b[0m\u001b[0m\n\u001b[1;32m     17\u001b[0m \u001b[0;34m\u001b[0m\u001b[0m\n",
      "\u001b[0;31mException\u001b[0m: "
     ]
    }
   ],
   "source": [
    "my_card = make_card(\"blob\", \"Hearts\")\n",
    "my_card"
   ]
  },
  {
   "cell_type": "code",
   "execution_count": 6,
   "metadata": {
    "collapsed": false
   },
   "outputs": [
    {
     "data": {
      "text/plain": [
       "[('2', 'Hearts'),\n",
       " ('2', 'Clubs'),\n",
       " ('2', 'Diamonds'),\n",
       " ('2', 'Spades'),\n",
       " ('3', 'Hearts'),\n",
       " ('3', 'Clubs'),\n",
       " ('3', 'Diamonds'),\n",
       " ('3', 'Spades'),\n",
       " ('4', 'Hearts'),\n",
       " ('4', 'Clubs'),\n",
       " ('4', 'Diamonds'),\n",
       " ('4', 'Spades'),\n",
       " ('5', 'Hearts'),\n",
       " ('5', 'Clubs'),\n",
       " ('5', 'Diamonds'),\n",
       " ('5', 'Spades'),\n",
       " ('6', 'Hearts'),\n",
       " ('6', 'Clubs'),\n",
       " ('6', 'Diamonds'),\n",
       " ('6', 'Spades'),\n",
       " ('7', 'Hearts'),\n",
       " ('7', 'Clubs'),\n",
       " ('7', 'Diamonds'),\n",
       " ('7', 'Spades'),\n",
       " ('8', 'Hearts'),\n",
       " ('8', 'Clubs'),\n",
       " ('8', 'Diamonds'),\n",
       " ('8', 'Spades'),\n",
       " ('9', 'Hearts'),\n",
       " ('9', 'Clubs'),\n",
       " ('9', 'Diamonds'),\n",
       " ('9', 'Spades'),\n",
       " ('10', 'Hearts'),\n",
       " ('10', 'Clubs'),\n",
       " ('10', 'Diamonds'),\n",
       " ('10', 'Spades'),\n",
       " ('J', 'Hearts'),\n",
       " ('J', 'Clubs'),\n",
       " ('J', 'Diamonds'),\n",
       " ('J', 'Spades'),\n",
       " ('Q', 'Hearts'),\n",
       " ('Q', 'Clubs'),\n",
       " ('Q', 'Diamonds'),\n",
       " ('Q', 'Spades'),\n",
       " ('K', 'Hearts'),\n",
       " ('K', 'Clubs'),\n",
       " ('K', 'Diamonds'),\n",
       " ('K', 'Spades'),\n",
       " ('A', 'Hearts'),\n",
       " ('A', 'Clubs'),\n",
       " ('A', 'Diamonds'),\n",
       " ('A', 'Spades')]"
      ]
     },
     "execution_count": 6,
     "metadata": {},
     "output_type": "execute_result"
    }
   ],
   "source": [
    "d = make_deck()\n",
    "d"
   ]
  },
  {
   "cell_type": "code",
   "execution_count": null,
   "metadata": {
    "collapsed": true
   },
   "outputs": [],
   "source": []
  },
  {
   "cell_type": "code",
   "execution_count": null,
   "metadata": {
    "collapsed": true
   },
   "outputs": [],
   "source": []
  },
  {
   "cell_type": "code",
   "execution_count": null,
   "metadata": {
    "collapsed": true
   },
   "outputs": [],
   "source": [
    "card1 = Card(suit=\"Clubs\", rank=\"3\")"
   ]
  },
  {
   "cell_type": "code",
   "execution_count": null,
   "metadata": {
    "collapsed": true
   },
   "outputs": [],
   "source": [
    "#Class Implementation\n",
    "class Card:\n",
    "    \n",
    "    SUITS = [\"Hearts\", \"Clubs\", \"Diamonds\", \"Spades\"]\n",
    "    RANKS = [\"2\", \"3\", \"4\", \"5\", \"6\", \"7\", \"8\", \"9\", \"10\", \"J\", \"Q\", \"K\", \"A\"]\n",
    "    \n",
    "    def __init__(self, suit, rank):\n",
    "        if (suit not in Card.SUITS) or (rank not in Card.RANKS): \n",
    "            raise(Exception)\n",
    "        self.suit = suit\n",
    "        self.rank = rank\n",
    "    \n",
    "    def __repr__(self):\n",
    "        return \"{} of {}\".format(self.rank, self.suit)\n",
    "\n",
    "class Deck:   \n",
    "    def __init__(self):\n",
    "        self.cards = []\n",
    "        for rank in Card.RANKS: \n",
    "            for suit in Card.SUITS: \n",
    "                c = Card(suit=suit, rank=rank)\n",
    "                self.cards.append(c)  \n",
    "    \n",
    "    def __repr__(self):\n",
    "        return \"Deck of {} cards\".format(len(self.cards))   "
   ]
  },
  {
   "cell_type": "code",
   "execution_count": null,
   "metadata": {
    "collapsed": true
   },
   "outputs": [],
   "source": [
    "d = Deck()"
   ]
  }
 ],
 "metadata": {
  "kernelspec": {
   "display_name": "Python 3",
   "language": "python",
   "name": "python3"
  },
  "language_info": {
   "codemirror_mode": {
    "name": "ipython",
    "version": 3
   },
   "file_extension": ".py",
   "mimetype": "text/x-python",
   "name": "python",
   "nbconvert_exporter": "python",
   "pygments_lexer": "ipython3",
   "version": "3.6.0"
  }
 },
 "nbformat": 4,
 "nbformat_minor": 2
}
