{
 "cells": [
  {
   "cell_type": "code",
   "execution_count": null,
   "metadata": {
    "collapsed": true
   },
   "outputs": [],
   "source": [
    "#How do you play Crazy Eights?\n",
    "'''\n",
    "ASSUME YOU ARE DOING A TWO PLAYER GAME\n",
    "\n",
    "from Wikipedia: https://en.wikipedia.org/wiki/Crazy_Eights\n",
    "\n",
    "Eight cards are dealt to each player (or seven in a two-player game). \n",
    "The remaining cards of the deck are placed face down at the center \n",
    "of the table. \n",
    "The top card is then turned face up to start the game.\n",
    "\n",
    "Players discard by matching rank or suit with the top card of the \n",
    "discard pile, \n",
    "starting with the player left of the dealer. \n",
    "If a player is unable to match the rank or suit of the top card of \n",
    "the discard pile \n",
    "and does not have an 8, they draw cards from the stockpile until \n",
    "they get a playable card. \n",
    "When a player plays an 8, they must declare the suit that \n",
    "the next player is to play;\n",
    "that player must then follow the named suit or play another 8.\n",
    "\n",
    "As an example: Once 6♣ is played the next player:\n",
    "\n",
    "can play any of the other 6s\n",
    "can play any of the clubs\n",
    "can play any 8 (then must declare a suit)\n",
    "can draw from the stockpile until willing and able to play one of the above\n",
    "The game ends as soon as one player has emptied their hand.\n",
    "That player is the winner.\n",
    "'''"
   ]
  },
  {
   "cell_type": "code",
   "execution_count": 19,
   "metadata": {
    "collapsed": true
   },
   "outputs": [],
   "source": [
    "class Card:  \n",
    "    SUITS = [\"Hearts\", \"Clubs\", \"Diamonds\", \"Spades\"]\n",
    "    RANKS = [\"2\", \"3\", \"4\", \"5\", \"6\", \"7\", \"8\", \"9\", \"10\", \"J\", \"Q\", \"K\", \"A\"]\n",
    "    \n",
    "    def __init__(self, suit, rank):\n",
    "        if (suit.capitalize() not in Card.SUITS) or (rank not in Card.RANKS): \n",
    "            raise(Exception)\n",
    "        self.suit = suit.capitalize()\n",
    "        self.rank = rank\n",
    "\n",
    "    def __repr__(self):\n",
    "        return \"{} of {}\".format(self.rank, self.suit)\n",
    "    \n",
    "    def __str__(self):\n",
    "        return \"{} of {}\".format(self.rank, self.suit)"
   ]
  },
  {
   "cell_type": "code",
   "execution_count": 40,
   "metadata": {
    "collapsed": true
   },
   "outputs": [],
   "source": [
    "import random\n",
    "class Cards:\n",
    "    def __init__(self):\n",
    "        self.cards = []\n",
    "        \n",
    "    def __len__(self):\n",
    "        return len(self.cards)\n",
    "    \n",
    "    def __str__(self):\n",
    "        lst = [str(card) for card in self.cards]\n",
    "        return \", \".join(lst)\n",
    "    \n",
    "    def __repr__(self):\n",
    "        lst = [str(card) for card in self.cards]\n",
    "        return \", \".join(lst)\n",
    "    \n",
    "    def addCard(self, card):\n",
    "        self.cards.append(card)\n",
    "        return self\n",
    "    \n",
    "    def removeCard(self, card):\n",
    "        self.cards.remove(card)\n",
    "        return self\n",
    "    \n",
    "    def dealCard(self):\n",
    "        return self.cards.pop()\n",
    "    \n",
    "    def deal(self, n=1): #returns Cards object\n",
    "        c = Cards()\n",
    "        for i in range(n):\n",
    "            c.addCard(self.dealCard())\n",
    "        return c\n",
    "    \n",
    "    def shuffle(self):\n",
    "        random.shuffle(self.cards)\n",
    "        return self\n",
    "    \n",
    "    def peek(self):\n",
    "        return self.cards[-1]\n",
    " \n",
    "    def search(self,searchCard): #returns tuple(int, Cards)\n",
    "        result = Cards()\n",
    "        for card in self.cards:\n",
    "            if (card.rank == searchCard.rank) or (card.suit == searchCard.suit):\n",
    "                result.addCard(card)\n",
    "        return len(result),result\n",
    "        #SEARCH MUST ALSO MATCH ALL cards with rank=\"8\"\n",
    "    \n",
    "    def makeDeck(self):\n",
    "        for rank in Card.RANKS: \n",
    "            for suit in Card.SUITS: \n",
    "                c = Card(suit=suit, rank=rank)\n",
    "                self.cards.append(c)\n",
    "        self.shuffle()\n",
    "        return self\n",
    "    \n",
    "    def fillWithCards(self, other):\n",
    "        if other is not None: \n",
    "            self.cards = other.cards\n",
    "        return self\n",
    "    \n",
    "    def empty(self):\n",
    "        return len(self) == 0\n",
    "    \n",
    "\n",
    "            "
   ]
  },
  {
   "cell_type": "code",
   "execution_count": 41,
   "metadata": {
    "collapsed": false
   },
   "outputs": [
    {
     "name": "stdout",
     "output_type": "stream",
     "text": [
      "52 5 of Clubs, 6 of Hearts, 10 of Diamonds, 2 of Clubs, 2 of Diamonds, 7 of Diamonds, 8 of Hearts, 9 of Diamonds, Q of Spades, Q of Diamonds, 10 of Hearts, 3 of Clubs, 2 of Spades, 6 of Spades, J of Diamonds, 7 of Clubs, 9 of Clubs, 5 of Diamonds, A of Clubs, 5 of Spades, K of Diamonds, J of Clubs, 4 of Clubs, 10 of Spades, J of Hearts, 3 of Hearts, 3 of Diamonds, 7 of Hearts, K of Clubs, A of Hearts, 2 of Hearts, Q of Hearts, A of Diamonds, 10 of Clubs, 6 of Clubs, 5 of Hearts, Q of Clubs, 8 of Diamonds, 4 of Diamonds, 9 of Hearts, A of Spades, 8 of Clubs, K of Spades, 9 of Spades, 4 of Hearts, 3 of Spades, 4 of Spades, 7 of Spades, 6 of Diamonds, J of Spades, 8 of Spades, K of Hearts\n"
     ]
    },
    {
     "data": {
      "text/plain": [
       "6 of Hearts, 8 of Hearts, 8 of Clubs, 2 of Clubs, K of Spades, 10 of Diamonds, 7 of Diamonds, 9 of Diamonds, A of Spades, Q of Diamonds, K of Clubs, J of Hearts, 7 of Spades, 10 of Spades, 4 of Hearts, J of Diamonds, A of Clubs, 4 of Spades, 6 of Diamonds, K of Diamonds, 9 of Clubs, J of Spades, 9 of Spades, J of Clubs, Q of Spades, A of Hearts, 2 of Diamonds, 10 of Hearts, 8 of Spades, 4 of Clubs, A of Diamonds, 5 of Hearts, 5 of Clubs, 3 of Diamonds, 5 of Spades, 6 of Spades, 3 of Hearts, Q of Hearts, 10 of Clubs, 7 of Clubs, K of Hearts, 6 of Clubs, 5 of Diamonds, 2 of Hearts, 7 of Hearts, 2 of Spades, Q of Clubs, 4 of Diamonds, 3 of Clubs, 9 of Hearts, 8 of Diamonds, 3 of Spades"
      ]
     },
     "execution_count": 41,
     "metadata": {},
     "output_type": "execute_result"
    }
   ],
   "source": [
    "d=Cards().makeDeck()\n",
    "c = d.dealCard()\n",
    "c\n",
    "d.empty()\n",
    "d.addCard(c)\n",
    "print(len(d), d)\n",
    "d.shuffle()"
   ]
  },
  {
   "cell_type": "code",
   "execution_count": 42,
   "metadata": {
    "collapsed": false
   },
   "outputs": [
    {
     "data": {
      "text/plain": [
       "K of Hearts"
      ]
     },
     "execution_count": 42,
     "metadata": {},
     "output_type": "execute_result"
    }
   ],
   "source": [
    "c"
   ]
  },
  {
   "cell_type": "code",
   "execution_count": 43,
   "metadata": {
    "collapsed": false
   },
   "outputs": [
    {
     "data": {
      "text/plain": [
       "A of Diamonds, 5 of Spades, 8 of Clubs, 4 of Clubs, J of Spades, 10 of Spades, 7 of Clubs, 6 of Hearts, K of Diamonds, 8 of Diamonds, J of Hearts, J of Clubs, 3 of Spades, 5 of Hearts, 10 of Clubs, 4 of Spades, 9 of Clubs, Q of Hearts, 8 of Spades, 8 of Hearts, 2 of Spades, 7 of Diamonds, J of Diamonds, 2 of Clubs, 9 of Spades, A of Clubs, 4 of Hearts, K of Clubs, K of Spades, A of Hearts, 10 of Diamonds, 6 of Clubs, 6 of Diamonds, 5 of Diamonds, 7 of Spades, 3 of Hearts, 2 of Diamonds, Q of Clubs, 3 of Clubs, 9 of Diamonds, 6 of Spades, K of Hearts, Q of Spades, 4 of Diamonds, 2 of Hearts, Q of Diamonds, 9 of Hearts, 3 of Diamonds, 10 of Hearts, 7 of Hearts, A of Spades, 5 of Clubs"
      ]
     },
     "execution_count": 43,
     "metadata": {},
     "output_type": "execute_result"
    }
   ],
   "source": [
    "d.shuffle()"
   ]
  },
  {
   "cell_type": "code",
   "execution_count": 44,
   "metadata": {
    "collapsed": false
   },
   "outputs": [
    {
     "data": {
      "text/plain": [
       "5 of Clubs"
      ]
     },
     "execution_count": 44,
     "metadata": {},
     "output_type": "execute_result"
    }
   ],
   "source": [
    "d.peek()"
   ]
  },
  {
   "cell_type": "code",
   "execution_count": 46,
   "metadata": {
    "collapsed": false
   },
   "outputs": [],
   "source": [
    "_ ,c1 = d.search(Card(suit=\"Hearts\", rank=\"10\"))"
   ]
  },
  {
   "cell_type": "code",
   "execution_count": 47,
   "metadata": {
    "collapsed": false
   },
   "outputs": [
    {
     "data": {
      "text/plain": [
       "10 of Spades, 6 of Hearts, J of Hearts, 5 of Hearts, 10 of Clubs, Q of Hearts, 8 of Hearts, 4 of Hearts, A of Hearts, 10 of Diamonds, 3 of Hearts, K of Hearts, 2 of Hearts, 9 of Hearts, 10 of Hearts, 7 of Hearts"
      ]
     },
     "execution_count": 47,
     "metadata": {},
     "output_type": "execute_result"
    }
   ],
   "source": [
    "c1"
   ]
  },
  {
   "cell_type": "code",
   "execution_count": 48,
   "metadata": {
    "collapsed": false
   },
   "outputs": [
    {
     "data": {
      "text/plain": [
       "10 of Spades, K of Hearts"
      ]
     },
     "execution_count": 48,
     "metadata": {},
     "output_type": "execute_result"
    }
   ],
   "source": [
    "_, c2 = c1.search(Card(suit=\"Spades\", rank=\"K\"))\n",
    "c2"
   ]
  },
  {
   "cell_type": "code",
   "execution_count": 34,
   "metadata": {
    "collapsed": false
   },
   "outputs": [
    {
     "data": {
      "text/plain": [
       "(54,\n",
       " K of Clubs, Q of Hearts, 6 of Hearts, 3 of Clubs, 7 of Diamonds, 7 of Clubs, A of Spades, A of Hearts, 5 of Hearts, K of Hearts, 4 of Hearts, 3 of Hearts, 6 of Clubs, 2 of Clubs, A of Clubs, 5 of Spades, 9 of Diamonds, 4 of Diamonds, 10 of Hearts, 7 of Spades, J of Hearts, 4 of Spades, 5 of Diamonds, K of Spades, 3 of Spades, 6 of Spades, 2 of Spades, J of Spades, Q of Spades, 8 of Diamonds, 8 of Spades, 9 of Hearts, A of Diamonds, 10 of Clubs, 10 of Spades, 10 of Diamonds, 9 of Clubs, 2 of Hearts, J of Clubs, 5 of Clubs, 7 of Hearts, 9 of Spades, Q of Diamonds, 8 of Clubs, 8 of Hearts, Q of Clubs, K of Diamonds, J of Diamonds, 2 of Diamonds, 3 of Diamonds, 6 of Diamonds, 4 of Clubs, 4 of Clubs, 4 of Clubs)"
      ]
     },
     "execution_count": 34,
     "metadata": {},
     "output_type": "execute_result"
    }
   ],
   "source": [
    "\n",
    "# '''    def addCard(self, card):\n",
    "\n",
    "    \n",
    "#     def removeCard(self, card):\n",
    "    \n",
    "#     def dealCard(self):\n",
    "   \n",
    "#     def shuffle(self):\n",
    "    \n",
    "#     def peek(self):\n",
    "\n",
    " \n",
    "#     def search(self,searchCard): #returns Tuple(int, List[Card])\n",
    "\n",
    "    \n",
    "#     def makeDeck(self):\n",
    "\n",
    "    \n",
    "#     def fillWithCards(self, other):\n",
    "\n",
    "    \n",
    "#     def empty(self):\n",
    "# '''"
   ]
  },
  {
   "cell_type": "code",
   "execution_count": 28,
   "metadata": {
    "collapsed": false
   },
   "outputs": [
    {
     "data": {
      "text/plain": [
       "(6 of Hearts, 10 of Spades, K of Hearts, 8 of Spades, 8 of Diamonds, 9 of Diamonds, 2 of Hearts, 2 of Clubs, Q of Clubs, 10 of Diamonds, 5 of Spades, K of Clubs, 3 of Diamonds, Q of Diamonds, Q of Spades, 3 of Spades, Q of Hearts, 9 of Spades, 5 of Clubs, 4 of Hearts, 6 of Diamonds, K of Diamonds, 5 of Hearts, 10 of Clubs, 6 of Spades, J of Diamonds, 8 of Hearts, 6 of Clubs, A of Hearts, 7 of Clubs, 7 of Hearts, 9 of Hearts, J of Spades, A of Clubs, 7 of Diamonds, J of Hearts, 9 of Clubs, J of Clubs, A of Spades, 10 of Hearts, 4 of Diamonds, 5 of Diamonds,\n",
       " 42)"
      ]
     },
     "execution_count": 28,
     "metadata": {},
     "output_type": "execute_result"
    }
   ],
   "source": [
    "d2 = Cards().makeDeck()\n",
    "for i in range(10):\n",
    "    d2.dealCard()\n",
    "d2, len(d2)"
   ]
  },
  {
   "cell_type": "code",
   "execution_count": null,
   "metadata": {
    "collapsed": true
   },
   "outputs": [],
   "source": []
  },
  {
   "cell_type": "code",
   "execution_count": null,
   "metadata": {
    "collapsed": true
   },
   "outputs": [],
   "source": []
  },
  {
   "cell_type": "code",
   "execution_count": null,
   "metadata": {
    "collapsed": true
   },
   "outputs": [],
   "source": []
  },
  {
   "cell_type": "code",
   "execution_count": null,
   "metadata": {
    "collapsed": true
   },
   "outputs": [],
   "source": []
  },
  {
   "cell_type": "code",
   "execution_count": 96,
   "metadata": {
    "collapsed": true
   },
   "outputs": [],
   "source": [
    "import random\n",
    "class Deck:  \n",
    "\n",
    "    def __init__(self):\n",
    "        self.cards = []\n",
    "        self.discards = []\n",
    "        \n",
    "    def makeNewDeck(self):\n",
    "        for rank in Card.RANKS: \n",
    "            for suit in Card.SUITS: \n",
    "                c = Card(suit=suit, rank=rank)\n",
    "                self.cards.append(c)\n",
    "        self.shuffle()\n",
    "        return self\n",
    "    \n",
    "    def fillWithCards(self, cards):\n",
    "        if cards is not None: #cards is list of Cards\n",
    "            self.cards = cards\n",
    "        return self\n",
    "                \n",
    "    def deal(self):\n",
    "        return self.cards.pop()\n",
    "    \n",
    "    def empty(self):\n",
    "        return len(self.cards) == 0\n",
    "    \n",
    "    def shuffle(self):\n",
    "        random.shuffle(self.cards)\n",
    "        return self \n",
    "\n",
    "    def __str__(self):\n",
    "        return \"This is a Deck containing {} cards\".format(len(self.cards))   "
   ]
  },
  {
   "cell_type": "code",
   "execution_count": 97,
   "metadata": {
    "collapsed": false
   },
   "outputs": [],
   "source": [
    "import random\n",
    "class Game:\n",
    "    #assume we have three Hands, one for the computer, one for the player, and one discard pile\n",
    "\n",
    "    def __init__(self, numberOfPlayers=2):\n",
    "        self.numberOfPlayers = numberOfPlayers\n",
    "        self.hands = [] #array of Hand objects. \n",
    "        #self.hands[0] is the computer\n",
    "\n",
    "        self.discards = Hand()\n",
    "        self.matchCard = None #Card. \n",
    "        self.winner = None #string with either \"Player\" or \"Computer\", set when game ends\n",
    "        self.deck = Deck().makeNewDeck()\n",
    "    \n",
    "    def winner(self):\n",
    "        pass\n",
    "    \n",
    "\n",
    "    def initialSetup(self):\n",
    "        for i in range(self.numberOfPlayers):\n",
    "            self.hands.append(Hand())\n",
    "            for j in range(7): #seven cards to each player\n",
    "                self.hands[i].addCard(self.deal())\n",
    "        self.discards.addCard(self.deal())\n",
    "    \n",
    "    def printHands(self):\n",
    "        for i in range(self.numberOfPlayers):\n",
    "            if i == 0: \n",
    "                print(\"Computer has:\", self.hands[i])\n",
    "            else:\n",
    "                print(\"Player {} has: {}\".format(i, self.hands[i])) \n",
    "        print(\"The discard pile is\", self.discards)\n",
    "\n",
    "    def shuffleDiscards(self):\n",
    "    #leave top card alone and shuffle the rest of the discards\n",
    "        topCard = self.discards.removeTopCard()\n",
    "        self.discards.shuffle()\n",
    "        self.discards.addCard(topCard)\n",
    "\n",
    "    def deal(self):\n",
    "        if self.deck.empty():\n",
    "            self.shuffleDiscards()\n",
    "            self.deck = Deck().fillWithCards(self.discards.cards)\n",
    "        \n",
    "        return self.deck.deal()\n",
    "\n",
    "    def setMatchCard(self):\n",
    "        #matchCard will be either:\n",
    "        # the last card in self.discards \n",
    "        # or a changed version of an 8 if an 8 is played\n",
    "        if self.discards.topCard().rank == '8':\n",
    "            raise Exception(\"CASE of 8 NOT YET IMPLEMENTED\")\n",
    "        else:\n",
    "            self.matchCard = self.discards.topCard() \n",
    "\n",
    "\n",
    "    \n",
    "\n",
    "    def play(self):\n",
    "        self.initialSetup()\n",
    "        self.setMatchCard()\n",
    "        self.loop(0)\n",
    "            \n",
    "            \n",
    "    \n",
    "    def loop(self, n):\n",
    "        turn = n % self.numberOfPlayers\n",
    "        if turn == 0:\n",
    "            self.computerTurn()\n",
    "        else:\n",
    "            self.playerTurn(turn) #make sure playerTurn is valid move!\n",
    "        \n",
    "        self.printHands()\n",
    "        \n",
    "#         if self.winner:\n",
    "#             print(\"winner is {}\".format(self.winner))\n",
    "#         else:\n",
    "#             self.loop(n+1)\n",
    "\n",
    "    def computerTurn(self):\n",
    "        n = 0\n",
    "        print(\"search result is\", self.hands[0].search(self.matchCard))\n",
    "        \n",
    "        while(len(self.hands[0].search(self.matchCard)) == 0):\n",
    "            self.hands[0].addCard(self.deal())\n",
    "            n += 1\n",
    "        \n",
    "        card = random.choice(self.hands[0].search(self.matchCard)) #pick at random\n",
    "        self.discards.addCard(self.hands[0].removeCard(card))\n",
    "        print(\"Computer drew {} cards\".format(n))\n",
    "        \n",
    "    \n",
    "    def playerTurn(self, n):\n",
    "        pass\n",
    "    \n",
    "        # player's turn\n",
    "            #search hand using self.matchCard\n",
    "            #if player can't play card on self.matchCard\n",
    "                #draw for them as many times as needed until they can play\n",
    "                #tell them how many cards were drawn\n",
    "                #print their cards\n",
    "            \n",
    "            #prompt player to play one card\n",
    "            # if player chooses invalid card\n",
    "                #prompt player to play one card\n",
    "            #print hand\n",
    "            #end of player's turn\n",
    "\n",
    "\n",
    "        # computer's turn\n",
    "            ##search hand using self.matchCard => returns array that is empty, or has 1+ cards\n",
    "            #if computer can't play card on self.matchCard\n",
    "                #draw# card\n",
    "                #print card drawn\n",
    "                #search hand using card drawn\n",
    "                # if computer can't play card on self.matchCard\n",
    "                #go to #draw# card\n",
    "\n",
    "            #computer plays drawn card\n",
    "            #add drawn card to self.discards\n",
    "            #if rank of drawnCard is eight #PUT THIS IN A FUNCTION\n",
    "                #set self.matchCard = Card(rank=drawncard.rank, \n",
    "                #                         suit=random.choice(Card.SUITS))\n",
    "            #else\n",
    "            #    set self.matchCard = self.discards.cards[-1]\n",
    "            #print hand\n",
    "            #end of computer's turn\n",
    "            #if computer has no cards left\n",
    "                #set self.winner = \"Computer\"\n",
    "\n",
    "#     def checkForWinner(self):\n",
    "#         winner = False\n",
    "#         if len(self.player.cards) == 0:\n",
    "#             self.winner = \"Player\"\n",
    "#             winner = True\n",
    "#         elif len(self.computer.cards) == 0:\n",
    "#             self.winner = \"Computer\"\n",
    "#             winner = True\n",
    "#         return winner\n",
    "            \n",
    "    \n",
    "\n",
    "        "
   ]
  },
  {
   "cell_type": "code",
   "execution_count": 98,
   "metadata": {
    "collapsed": false
   },
   "outputs": [
    {
     "name": "stdout",
     "output_type": "stream",
     "text": [
      "search result is (2, [<__main__.Card object at 0x107c2ff98>, <__main__.Card object at 0x107bc5fd0>])\n"
     ]
    },
    {
     "ename": "ValueError",
     "evalue": "list.remove(x): x not in list",
     "output_type": "error",
     "traceback": [
      "\u001b[0;31m---------------------------------------------------------------------------\u001b[0m",
      "\u001b[0;31mValueError\u001b[0m                                Traceback (most recent call last)",
      "\u001b[0;32m<ipython-input-98-da67250bef9c>\u001b[0m in \u001b[0;36m<module>\u001b[0;34m()\u001b[0m\n\u001b[1;32m      1\u001b[0m \u001b[0mg\u001b[0m \u001b[0;34m=\u001b[0m \u001b[0mGame\u001b[0m\u001b[0;34m(\u001b[0m\u001b[0;34m)\u001b[0m\u001b[0;34m\u001b[0m\u001b[0m\n\u001b[0;32m----> 2\u001b[0;31m \u001b[0mg\u001b[0m\u001b[0;34m.\u001b[0m\u001b[0mplay\u001b[0m\u001b[0;34m(\u001b[0m\u001b[0;34m)\u001b[0m\u001b[0;34m\u001b[0m\u001b[0m\n\u001b[0m",
      "\u001b[0;32m<ipython-input-97-74b1d726e21c>\u001b[0m in \u001b[0;36mplay\u001b[0;34m(self)\u001b[0m\n\u001b[1;32m     60\u001b[0m         \u001b[0mself\u001b[0m\u001b[0;34m.\u001b[0m\u001b[0minitialSetup\u001b[0m\u001b[0;34m(\u001b[0m\u001b[0;34m)\u001b[0m\u001b[0;34m\u001b[0m\u001b[0m\n\u001b[1;32m     61\u001b[0m         \u001b[0mself\u001b[0m\u001b[0;34m.\u001b[0m\u001b[0msetMatchCard\u001b[0m\u001b[0;34m(\u001b[0m\u001b[0;34m)\u001b[0m\u001b[0;34m\u001b[0m\u001b[0m\n\u001b[0;32m---> 62\u001b[0;31m         \u001b[0mself\u001b[0m\u001b[0;34m.\u001b[0m\u001b[0mloop\u001b[0m\u001b[0;34m(\u001b[0m\u001b[0;36m0\u001b[0m\u001b[0;34m)\u001b[0m\u001b[0;34m\u001b[0m\u001b[0m\n\u001b[0m\u001b[1;32m     63\u001b[0m \u001b[0;34m\u001b[0m\u001b[0m\n\u001b[1;32m     64\u001b[0m \u001b[0;34m\u001b[0m\u001b[0m\n",
      "\u001b[0;32m<ipython-input-97-74b1d726e21c>\u001b[0m in \u001b[0;36mloop\u001b[0;34m(self, n)\u001b[0m\n\u001b[1;32m     67\u001b[0m         \u001b[0mturn\u001b[0m \u001b[0;34m=\u001b[0m \u001b[0mn\u001b[0m \u001b[0;34m%\u001b[0m \u001b[0mself\u001b[0m\u001b[0;34m.\u001b[0m\u001b[0mnumberOfPlayers\u001b[0m\u001b[0;34m\u001b[0m\u001b[0m\n\u001b[1;32m     68\u001b[0m         \u001b[0;32mif\u001b[0m \u001b[0mturn\u001b[0m \u001b[0;34m==\u001b[0m \u001b[0;36m0\u001b[0m\u001b[0;34m:\u001b[0m\u001b[0;34m\u001b[0m\u001b[0m\n\u001b[0;32m---> 69\u001b[0;31m             \u001b[0mself\u001b[0m\u001b[0;34m.\u001b[0m\u001b[0mcomputerTurn\u001b[0m\u001b[0;34m(\u001b[0m\u001b[0;34m)\u001b[0m\u001b[0;34m\u001b[0m\u001b[0m\n\u001b[0m\u001b[1;32m     70\u001b[0m         \u001b[0;32melse\u001b[0m\u001b[0;34m:\u001b[0m\u001b[0;34m\u001b[0m\u001b[0m\n\u001b[1;32m     71\u001b[0m             \u001b[0mself\u001b[0m\u001b[0;34m.\u001b[0m\u001b[0mplayerTurn\u001b[0m\u001b[0;34m(\u001b[0m\u001b[0mturn\u001b[0m\u001b[0;34m)\u001b[0m \u001b[0;31m#make sure playerTurn is valid move!\u001b[0m\u001b[0;34m\u001b[0m\u001b[0m\n",
      "\u001b[0;32m<ipython-input-97-74b1d726e21c>\u001b[0m in \u001b[0;36mcomputerTurn\u001b[0;34m(self)\u001b[0m\n\u001b[1;32m     87\u001b[0m \u001b[0;34m\u001b[0m\u001b[0m\n\u001b[1;32m     88\u001b[0m         \u001b[0mcard\u001b[0m \u001b[0;34m=\u001b[0m \u001b[0mrandom\u001b[0m\u001b[0;34m.\u001b[0m\u001b[0mchoice\u001b[0m\u001b[0;34m(\u001b[0m\u001b[0mself\u001b[0m\u001b[0;34m.\u001b[0m\u001b[0mhands\u001b[0m\u001b[0;34m[\u001b[0m\u001b[0;36m0\u001b[0m\u001b[0;34m]\u001b[0m\u001b[0;34m.\u001b[0m\u001b[0msearch\u001b[0m\u001b[0;34m(\u001b[0m\u001b[0mself\u001b[0m\u001b[0;34m.\u001b[0m\u001b[0mmatchCard\u001b[0m\u001b[0;34m)\u001b[0m\u001b[0;34m)\u001b[0m \u001b[0;31m#pick at random\u001b[0m\u001b[0;34m\u001b[0m\u001b[0m\n\u001b[0;32m---> 89\u001b[0;31m         \u001b[0mself\u001b[0m\u001b[0;34m.\u001b[0m\u001b[0mdiscards\u001b[0m\u001b[0;34m.\u001b[0m\u001b[0maddCard\u001b[0m\u001b[0;34m(\u001b[0m\u001b[0mself\u001b[0m\u001b[0;34m.\u001b[0m\u001b[0mhands\u001b[0m\u001b[0;34m[\u001b[0m\u001b[0;36m0\u001b[0m\u001b[0;34m]\u001b[0m\u001b[0;34m.\u001b[0m\u001b[0mremoveCard\u001b[0m\u001b[0;34m(\u001b[0m\u001b[0mcard\u001b[0m\u001b[0;34m)\u001b[0m\u001b[0;34m)\u001b[0m\u001b[0;34m\u001b[0m\u001b[0m\n\u001b[0m\u001b[1;32m     90\u001b[0m         \u001b[0mprint\u001b[0m\u001b[0;34m(\u001b[0m\u001b[0;34m\"Computer drew {} cards\"\u001b[0m\u001b[0;34m.\u001b[0m\u001b[0mformat\u001b[0m\u001b[0;34m(\u001b[0m\u001b[0mn\u001b[0m\u001b[0;34m)\u001b[0m\u001b[0;34m)\u001b[0m\u001b[0;34m\u001b[0m\u001b[0m\n\u001b[1;32m     91\u001b[0m \u001b[0;34m\u001b[0m\u001b[0m\n",
      "\u001b[0;32m<ipython-input-95-71f894b14a4d>\u001b[0m in \u001b[0;36mremoveCard\u001b[0;34m(self, card)\u001b[0m\n\u001b[1;32m     13\u001b[0m \u001b[0;34m\u001b[0m\u001b[0m\n\u001b[1;32m     14\u001b[0m     \u001b[0;32mdef\u001b[0m \u001b[0mremoveCard\u001b[0m\u001b[0;34m(\u001b[0m\u001b[0mself\u001b[0m\u001b[0;34m,\u001b[0m \u001b[0mcard\u001b[0m\u001b[0;34m)\u001b[0m\u001b[0;34m:\u001b[0m\u001b[0;34m\u001b[0m\u001b[0m\n\u001b[0;32m---> 15\u001b[0;31m         \u001b[0mself\u001b[0m\u001b[0;34m.\u001b[0m\u001b[0mcards\u001b[0m\u001b[0;34m.\u001b[0m\u001b[0mremove\u001b[0m\u001b[0;34m(\u001b[0m\u001b[0mcard\u001b[0m\u001b[0;34m)\u001b[0m\u001b[0;34m\u001b[0m\u001b[0m\n\u001b[0m\u001b[1;32m     16\u001b[0m         \u001b[0;32mreturn\u001b[0m \u001b[0mself\u001b[0m\u001b[0;34m\u001b[0m\u001b[0m\n\u001b[1;32m     17\u001b[0m \u001b[0;34m\u001b[0m\u001b[0m\n",
      "\u001b[0;31mValueError\u001b[0m: list.remove(x): x not in list"
     ]
    }
   ],
   "source": [
    "g = Game()\n",
    "g.play()"
   ]
  },
  {
   "cell_type": "code",
   "execution_count": 52,
   "metadata": {
    "collapsed": false
   },
   "outputs": [
    {
     "name": "stdout",
     "output_type": "stream",
     "text": [
      "A of Diamonds, 10 of Clubs, 4 of Hearts, Q of Diamonds, K of Spades, 2 of Diamonds, 3 of Spades\n"
     ]
    }
   ],
   "source": [
    "print(g.hands[0])"
   ]
  },
  {
   "cell_type": "code",
   "execution_count": 57,
   "metadata": {
    "collapsed": false
   },
   "outputs": [
    {
     "data": {
      "text/plain": [
       "3"
      ]
     },
     "execution_count": 57,
     "metadata": {},
     "output_type": "execute_result"
    }
   ],
   "source": [
    "f = [1,2,3]\n",
    "random.choice(f)"
   ]
  },
  {
   "cell_type": "code",
   "execution_count": null,
   "metadata": {
    "collapsed": true
   },
   "outputs": [],
   "source": []
  },
  {
   "cell_type": "code",
   "execution_count": null,
   "metadata": {
    "collapsed": true
   },
   "outputs": [],
   "source": []
  },
  {
   "cell_type": "code",
   "execution_count": null,
   "metadata": {
    "collapsed": true
   },
   "outputs": [],
   "source": []
  },
  {
   "cell_type": "code",
   "execution_count": null,
   "metadata": {
    "collapsed": true
   },
   "outputs": [],
   "source": []
  },
  {
   "cell_type": "code",
   "execution_count": null,
   "metadata": {
    "collapsed": true
   },
   "outputs": [],
   "source": []
  },
  {
   "cell_type": "code",
   "execution_count": null,
   "metadata": {
    "collapsed": true
   },
   "outputs": [],
   "source": []
  },
  {
   "cell_type": "code",
   "execution_count": null,
   "metadata": {
    "collapsed": true
   },
   "outputs": [],
   "source": []
  },
  {
   "cell_type": "code",
   "execution_count": null,
   "metadata": {
    "collapsed": true
   },
   "outputs": [],
   "source": []
  },
  {
   "cell_type": "code",
   "execution_count": null,
   "metadata": {
    "collapsed": true
   },
   "outputs": [],
   "source": []
  },
  {
   "cell_type": "code",
   "execution_count": null,
   "metadata": {
    "collapsed": true
   },
   "outputs": [],
   "source": []
  },
  {
   "cell_type": "code",
   "execution_count": null,
   "metadata": {
    "collapsed": true
   },
   "outputs": [],
   "source": []
  },
  {
   "cell_type": "code",
   "execution_count": null,
   "metadata": {
    "collapsed": true
   },
   "outputs": [],
   "source": []
  },
  {
   "cell_type": "code",
   "execution_count": null,
   "metadata": {
    "collapsed": true
   },
   "outputs": [],
   "source": []
  }
 ],
 "metadata": {
  "kernelspec": {
   "display_name": "Python 3",
   "language": "python",
   "name": "python3"
  },
  "language_info": {
   "codemirror_mode": {
    "name": "ipython",
    "version": 3
   },
   "file_extension": ".py",
   "mimetype": "text/x-python",
   "name": "python",
   "nbconvert_exporter": "python",
   "pygments_lexer": "ipython3",
   "version": "3.6.0"
  }
 },
 "nbformat": 4,
 "nbformat_minor": 2
}
